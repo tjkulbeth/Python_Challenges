{
 "cells": [
  {
   "cell_type": "code",
   "execution_count": 21,
   "metadata": {},
   "outputs": [],
   "source": [
    "import csv\n",
    "\n",
    "d_list=[]"
   ]
  },
  {
   "cell_type": "code",
   "execution_count": 22,
   "metadata": {},
   "outputs": [],
   "source": [
    "filename = \"Resources/budget_data.csv\"\n",
    "with open (filename, \"r\") as csvfile:\n",
    "    csvreader = csv.reader(csvfile, delimiter=',')\n",
    "    next(csvreader, None)\n",
    "    data = list(csvreader)\n",
    "    current_volume = int(data[0][1])"
   ]
  },
  {
   "cell_type": "code",
   "execution_count": 23,
   "metadata": {},
   "outputs": [],
   "source": [
    "    #Calculations\n",
    "    for row in data:\n",
    "        next_volume = int(row[1])\n",
    "        difference =  next_volume - current_volume\n",
    "        current_volume = next_volume\n",
    "        d_list.append(difference)\n",
    "    # Number of months\n",
    "    n_months = len(d_list)\n",
    "    # total profit over all months\n",
    "    total_profit = sum(int(row[1]) for row in data)\n",
    "    # average change\n",
    "    average = sum(d_list)/(len(d_list)-1)\n",
    "    # find greatest increase in profits\n",
    "    g_increase = max(int(row[1]) for row in data)\n",
    "    # find greatest decrease in profits\n",
    "    g_decrease = min(int(row[1]) for row in data)\n",
    "    "
   ]
  },
  {
   "cell_type": "code",
   "execution_count": 27,
   "metadata": {},
   "outputs": [
    {
     "name": "stdout",
     "output_type": "stream",
     "text": [
      "Finanical Analysis\n",
      "-----------------------\n",
      "Total Months: 86\n",
      "Total: $ 38382578\n",
      "Average Change: $ -2315.12\n",
      "Greatest Increase in Profits: 1170593\n",
      "Greatest Decrease in Profits: -1196225\n"
     ]
    }
   ],
   "source": [
    "    # Print out Summary\n",
    "    line1 = print(\"Finanical Analysis\")\n",
    "    line2 = print(\"-----------------------\")\n",
    "    line3 = print(f\"Total Months: {n_months}\")\n",
    "    line4 = print(f\"Total: $ {total_profit}\")\n",
    "    line5 = print(f\"Average Change: $ {average:+.2f}\")\n",
    "    line6 = print(f\"Greatest Increase in Profits: {g_increase}\")\n",
    "    line7 = print(f\"Greatest Decrease in Profits: {g_decrease}\")"
   ]
  },
  {
   "cell_type": "code",
   "execution_count": 28,
   "metadata": {},
   "outputs": [],
   "source": [
    "# generate list of outputs\n",
    "# output=[{\n",
    "#     \"Total Months\": n_months,\n",
    "#     \"Total Profit\": total_profit,\n",
    "#     \"Average Change\": average,\n",
    "#     \"Greatest Increase\": g_increase,\n",
    "#     \"Greatest Decrease\": g_decrease,\n",
    "# }]"
   ]
  },
  {
   "cell_type": "code",
   "execution_count": 34,
   "metadata": {},
   "outputs": [],
   "source": [
    "# Write updated data to a text file\n",
    "budget_data_output = \"budget_data_output.txt\"\n",
    "with open(budget_data_output, 'w') as output:\n",
    "    output.write(f\"Finanical Analysis\\n\")\n",
    "    output.write(f\"-----------------------\\n\")\n",
    "    output.write(f\"Total Months: {n_months}\\n\")\n",
    "    output.write(f\"Total: $ {total_profit}\\n\")\n",
    "    output.write(f\"Average Change: $ {average:+.2f}\\n\")\n",
    "    output.write(f\"Greatest Increase in Profits: {g_increase}\\n\")\n",
    "    output.write(f\"Greatest Decrease in Profits: {g_decrease}\\n\")   "
   ]
  },
  {
   "cell_type": "code",
   "execution_count": 14,
   "metadata": {},
   "outputs": [],
   "source": [
    "# Write updated data to csv file\n",
    "# csvpath = os.path.join(\"output\", filename)\n",
    "# with open('output.txt', \"w\") as csvfile:\n",
    "#     fieldnames = [\"Total Months\", \"Total Profit\", \"Average Change\", \"Greatest Increase\", \"Greatest Decrease\"]\n",
    "#     writer = csv.DictWriter(csvfile, fieldnames=fieldnames)\n",
    "#     writer.writeheader()\n",
    "#     writer.writerows(output)"
   ]
  },
  {
   "cell_type": "code",
   "execution_count": 12,
   "metadata": {},
   "outputs": [
    {
     "name": "stdout",
     "output_type": "stream",
     "text": [
      "Help on DictWriter in module csv object:\n",
      "\n",
      "class DictWriter(builtins.object)\n",
      " |  DictWriter(f, fieldnames, restval='', extrasaction='raise', dialect='excel', *args, **kwds)\n",
      " |  \n",
      " |  Methods defined here:\n",
      " |  \n",
      " |  __init__(self, f, fieldnames, restval='', extrasaction='raise', dialect='excel', *args, **kwds)\n",
      " |      Initialize self.  See help(type(self)) for accurate signature.\n",
      " |  \n",
      " |  writeheader(self)\n",
      " |  \n",
      " |  writerow(self, rowdict)\n",
      " |  \n",
      " |  writerows(self, rowdicts)\n",
      " |  \n",
      " |  ----------------------------------------------------------------------\n",
      " |  Data descriptors defined here:\n",
      " |  \n",
      " |  __dict__\n",
      " |      dictionary for instance variables (if defined)\n",
      " |  \n",
      " |  __weakref__\n",
      " |      list of weak references to the object (if defined)\n",
      "\n"
     ]
    }
   ],
   "source": [
    "help(writer)"
   ]
  },
  {
   "cell_type": "code",
   "execution_count": null,
   "metadata": {},
   "outputs": [],
   "source": []
  }
 ],
 "metadata": {
  "kernelspec": {
   "display_name": "Python 3",
   "language": "python",
   "name": "python3"
  },
  "language_info": {
   "codemirror_mode": {
    "name": "ipython",
    "version": 3
   },
   "file_extension": ".py",
   "mimetype": "text/x-python",
   "name": "python",
   "nbconvert_exporter": "python",
   "pygments_lexer": "ipython3",
   "version": "3.7.1"
  }
 },
 "nbformat": 4,
 "nbformat_minor": 2
}
