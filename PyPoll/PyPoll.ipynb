{
 "cells": [
  {
   "cell_type": "code",
   "execution_count": 17,
   "metadata": {},
   "outputs": [],
   "source": [
    "import csv\n",
    "\n",
    "row=[]\n",
    "cand1 = []\n",
    "cand2 = []\n",
    "cand3 = []\n",
    "cand4 = []\n",
    "data=[]\n"
   ]
  },
  {
   "cell_type": "code",
   "execution_count": 18,
   "metadata": {},
   "outputs": [],
   "source": [
    "filename = \"Resources/election_data.csv\"\n",
    "with open (filename, \"r\") as csvfile:\n",
    "    csvreader = csv.reader(csvfile, delimiter=',')\n",
    "    next(csvreader, None)\n",
    "#     for row in csvreader:\n",
    "#         data.append(row[2])\n",
    "    data = list(csvreader)\n",
    "#     print(data)\n",
    "    "
   ]
  },
  {
   "cell_type": "code",
   "execution_count": 19,
   "metadata": {},
   "outputs": [
    {
     "ename": "IndentationError",
     "evalue": "unexpected indent (<ipython-input-19-42ba4d1d044c>, line 2)",
     "output_type": "error",
     "traceback": [
      "\u001b[1;36m  File \u001b[1;32m\"<ipython-input-19-42ba4d1d044c>\"\u001b[1;36m, line \u001b[1;32m2\u001b[0m\n\u001b[1;33m    tot_votes=len(data)\u001b[0m\n\u001b[1;37m    ^\u001b[0m\n\u001b[1;31mIndentationError\u001b[0m\u001b[1;31m:\u001b[0m unexpected indent\n"
     ]
    }
   ],
   "source": [
    "# Calculate total number of votes\n",
    "    tot_votes=len(data)"
   ]
  },
  {
   "cell_type": "code",
   "execution_count": null,
   "metadata": {},
   "outputs": [],
   "source": [
    "    for row in data:\n",
    "        if row[2] == \"Khan\":\n",
    "            cand1.append(row) \n",
    "        elif row[2] == \"Correy\":\n",
    "            cand2.append(row) \n",
    "        elif row[2] == \"Li\":\n",
    "            cand3.append(row)\n",
    "        elif row[2] == \"O'Tooley\":\n",
    "            cand4.append(row) \n",
    "    \n"
   ]
  },
  {
   "cell_type": "code",
   "execution_count": null,
   "metadata": {},
   "outputs": [],
   "source": [
    "print(tot_votes)\n",
    "cand1_votes = sum(1 for row[0] in cand1)\n",
    "cand2_votes = sum(1 for row[0] in cand2)\n",
    "cand3_votes = sum(1 for row[0] in cand3)\n",
    "cand4_votes = sum(1 for row[0] in cand4)"
   ]
  },
  {
   "cell_type": "code",
   "execution_count": null,
   "metadata": {},
   "outputs": [],
   "source": [
    "#     Select winner\n",
    "if len(cand1) > len(cand2) and len(cand1) > len(cand3) and len(cand1) > len(cand4):\n",
    "    winner = \"Khan\"\n",
    "elif len(cand2) > len(cand1) and len(cand2) > len(cand3) and len(cand2) > len(cand4):\n",
    "    winner = \"Correy\"\n",
    "elif len(cand3) > len(cand1) and len(cand3) > len(cand2) and len(cand3) > len(cand4):\n",
    "    winner = \"Li\"\n",
    "elif len(cand4) > len(cand1) and len(cand4) > len(cand2) and len(cand4) > len(cand3):\n",
    "    winner = \"O'Tooley\""
   ]
  },
  {
   "cell_type": "code",
   "execution_count": null,
   "metadata": {},
   "outputs": [],
   "source": [
    "    \n",
    "# Print out Summary\n",
    "print(\"Election Results\")\n",
    "print(\"-----------------------\")\n",
    "print(f\"Total Votes: {tot_votes}\")\n",
    "print(\"-----------------------\")\n",
    "print(f\"Khan : {cand1_votes/tot_votes:.2f}% ({len(cand1)})\")\n",
    "print(f\"Correy : {cand2_votes/tot_votes:.2f}% ({len(cand2)})\")\n",
    "print(f\"Li : {cand3_votes/tot_votes:.2f}% ({len(cand3)})\")\n",
    "print(f\"O'Tooley : {cand4_votes/tot_votes:.2f}% ({len(cand4)})\")\n",
    "print(\"-----------------------\")\n",
    "print(f\"Winner: {winner}\")\n",
    "print(\"-----------------------\")"
   ]
  },
  {
   "cell_type": "code",
   "execution_count": null,
   "metadata": {},
   "outputs": [],
   "source": [
    "# Write updated data to a text file\n",
    "election_results_output = \"election_results_output.txt\"\n",
    "with open(election_results_output, 'w') as output:\n",
    "    output.write(f\"Election Results\\n\")\n",
    "    output.write(f\"-----------------------\\n\")\n",
    "    output.write(f\"Total Votes: {tot_votes}\\n\")\n",
    "    output.write(f\"-----------------------\\n\")\n",
    "    output.write(f\"Khan : {cand1_votes/tot_votes:.2f}% ({len(cand1)})\\n\")\n",
    "    output.write(f\"Correy : {cand2_votes/tot_votes:.2f}% ({len(cand2)})\\n\")\n",
    "    output.write(f\"Li : {cand3_votes/tot_votes:.2f}% ({len(cand3)})\\n\")\n",
    "    output.write(f\"O'Tooley : {cand4_votes/tot_votes:.2f}% ({len(cand4)})\\n\")  \n",
    "    output.write(f\"-----------------------\\n\")\n",
    "    output.write(f\"Winner: {winner}\\n\")\n",
    "    output.write(f\"-----------------------\\n\")"
   ]
  },
  {
   "cell_type": "code",
   "execution_count": null,
   "metadata": {},
   "outputs": [],
   "source": []
  }
 ],
 "metadata": {
  "kernelspec": {
   "display_name": "Python 3",
   "language": "python",
   "name": "python3"
  },
  "language_info": {
   "codemirror_mode": {
    "name": "ipython",
    "version": 3
   },
   "file_extension": ".py",
   "mimetype": "text/x-python",
   "name": "python",
   "nbconvert_exporter": "python",
   "pygments_lexer": "ipython3",
   "version": "3.7.1"
  }
 },
 "nbformat": 4,
 "nbformat_minor": 2
}
