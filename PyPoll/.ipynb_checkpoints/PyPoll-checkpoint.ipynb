{
 "cells": [
  {
   "cell_type": "code",
   "execution_count": 12,
   "metadata": {},
   "outputs": [],
   "source": [
    "import csv\n",
    "\n",
    "row=[]\n",
    "cand1 = []\n",
    "cand2 = []\n",
    "cand3 = []\n",
    "cand4 = []\n",
    "data=[]\n"
   ]
  },
  {
   "cell_type": "code",
   "execution_count": 13,
   "metadata": {},
   "outputs": [],
   "source": [
    "filename = \"Resources/election_data.csv\"\n",
    "with open (filename, \"r\") as csvfile:\n",
    "    csvreader = csv.reader(csvfile, delimiter=',')\n",
    "    next(csvreader, None)\n",
    "    for row in csvreader:\n",
    "        data.append(row[2])\n",
    "#         data = list(csvreader)\n",
    "#     print(data)\n",
    "    "
   ]
  },
  {
   "cell_type": "code",
   "execution_count": 16,
   "metadata": {},
   "outputs": [
    {
     "name": "stdout",
     "output_type": "stream",
     "text": [
      "3521001\n"
     ]
    }
   ],
   "source": [
    "    tot_votes=len(data)\n",
    "#     tot_votes=sum(len(row) for row in data)\n",
    "    print(tot_votes)"
   ]
  },
  {
   "cell_type": "code",
   "execution_count": null,
   "metadata": {},
   "outputs": [],
   "source": [
    "    for row in data:\n",
    "        if row[2] == \"Khan\":\n",
    "            cand1.append(row) \n",
    "        elif row[2] == \"Correy\":\n",
    "            cand2.append(row) \n",
    "        elif row[2] == \"Li\":\n",
    "            cand3.append(row)\n",
    "        elif row[2] == \"O'Tooley\":\n",
    "            cand4.append(row) \n",
    "    \n"
   ]
  },
  {
   "cell_type": "code",
   "execution_count": null,
   "metadata": {},
   "outputs": [],
   "source": [
    "print(tot_votes)\n",
    "# print(cand2[0][0])\n",
    "cand1_votes = sum(1 for row[0] in cand1)\n",
    "cand2_votes = sum(1 for row[0] in cand2)\n",
    "cand3_votes = sum(1 for row[0] in cand3)\n",
    "cand4_votes = sum(1 for row[0] in cand4)\n",
    "# print(cand1_votes)\n",
    "# print(cand2_votes)\n",
    "# print(cand3_votes)\n",
    "# print(cand4_votes)"
   ]
  },
  {
   "cell_type": "code",
   "execution_count": null,
   "metadata": {},
   "outputs": [],
   "source": [
    "#     Select winner\n",
    "if len(cand1) > len(cand2) and len(cand1) > len(cand3) and len(cand1) > len(cand4):\n",
    "    winner = \"Khan\"\n",
    "elif len(cand2) > len(cand1) and len(cand2) > len(cand3) and len(cand2) > len(cand4):\n",
    "    winner = \"Correy\"\n",
    "elif len(cand3) > len(cand1) and len(cand3) > len(cand2) and len(cand3) > len(cand4):\n",
    "    winner = \"Li\"\n",
    "elif len(cand4) > len(cand1) and len(cand4) > len(cand2) and len(cand4) > len(cand3):\n",
    "    winner = \"O'Tooley\""
   ]
  },
  {
   "cell_type": "code",
   "execution_count": null,
   "metadata": {},
   "outputs": [],
   "source": [
    "    \n",
    "# Print out Summary\n",
    "print(\"Election Results\")\n",
    "print(\"-----------------------\")\n",
    "print(f\"Total Votes: {tot_votes}\")\n",
    "print(\"-----------------------\")\n",
    "print(f\"Khan : {cand1_votes/tot_votes:.2f}% ({len(cand1)})\")\n",
    "print(f\"Correy : {cand2_votes/tot_votes:.2f}% ({len(cand2)})\")\n",
    "print(f\"Li : {cand3_votes/tot_votes:.2f}% ({len(cand3)})\")\n",
    "print(f\"O'Tooley : {cand4_votes/tot_votes:.2f}% ({len(cand4)})\")\n",
    "print(\"-----------------------\")\n",
    "print(f\"Winner: {winner}\")\n",
    "print(\"-----------------------\")"
   ]
  },
  {
   "cell_type": "code",
   "execution_count": null,
   "metadata": {},
   "outputs": [],
   "source": [
    "# generate list of outputs\n",
    "output=[{\n",
    "    \"Total Months\": n_months,\n",
    "    \"Total Profit\": total_profit,\n",
    "    \"Average Change\": average,\n",
    "    \"Greatest Increase\": g_increase,\n",
    "    \"Greatest Decrease\": g_decrease,\n",
    "}]"
   ]
  },
  {
   "cell_type": "code",
   "execution_count": null,
   "metadata": {},
   "outputs": [],
   "source": [
    "# Write updated data to csv file\n",
    "# csvpath = os.path.join(\"output\", filename)\n",
    "with open('output.csv', \"w\") as csvfile:\n",
    "    fieldnames = [\"Total Months\", \"Total Profit\", \"Average Change\", \"Greatest Increase\", \"Greatest Decrease\"]\n",
    "    writer = csv.DictWriter(csvfile, fieldnames=fieldnames)\n",
    "    writer.writeheader()\n",
    "    writer.writerows(output)"
   ]
  }
 ],
 "metadata": {
  "kernelspec": {
   "display_name": "Python 3",
   "language": "python",
   "name": "python3"
  },
  "language_info": {
   "codemirror_mode": {
    "name": "ipython",
    "version": 3
   },
   "file_extension": ".py",
   "mimetype": "text/x-python",
   "name": "python",
   "nbconvert_exporter": "python",
   "pygments_lexer": "ipython3",
   "version": "3.7.1"
  }
 },
 "nbformat": 4,
 "nbformat_minor": 2
}
